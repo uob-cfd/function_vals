{
 "cells": [
  {
   "cell_type": "code",
   "execution_count": null,
   "id": "571bfacd",
   "metadata": {},
   "outputs": [],
   "source": [
    "# Load the OKpy test library and tests.\n",
    "from client.api.notebook import Notebook\n",
    "ok = Notebook('function_vals.ok')"
   ]
  },
  {
   "cell_type": "markdown",
   "id": "f47a20be",
   "metadata": {},
   "source": [
    "For background, please read the [functions as values page](https://uob-ds.github.io/cfd2021/functions-conditionals/functions_as_values).\n",
    "\n",
    "Consider these two functions:"
   ]
  },
  {
   "cell_type": "code",
   "execution_count": null,
   "id": "e11c930e",
   "metadata": {},
   "outputs": [],
   "source": [
    "def add(a, b):\n",
    "    return a + b"
   ]
  },
  {
   "cell_type": "code",
   "execution_count": null,
   "id": "e5ed6d78",
   "metadata": {},
   "outputs": [],
   "source": [
    "def sub(a, b):\n",
    "    return a - b"
   ]
  },
  {
   "cell_type": "markdown",
   "id": "3c3161b2",
   "metadata": {},
   "source": [
    "Here's `add` in action:"
   ]
  },
  {
   "cell_type": "code",
   "execution_count": null,
   "id": "4c1cf21c",
   "metadata": {},
   "outputs": [],
   "source": [
    "add(4, 1)"
   ]
  },
  {
   "cell_type": "markdown",
   "id": "bbe927c6",
   "metadata": {},
   "source": [
    "Here's `sub` in action:"
   ]
  },
  {
   "cell_type": "code",
   "execution_count": null,
   "id": "3e1a2b81",
   "metadata": {},
   "outputs": [],
   "source": [
    "sub(4, 1)"
   ]
  },
  {
   "cell_type": "markdown",
   "id": "eb8f4aba",
   "metadata": {},
   "source": [
    "There's some code below, that will error, because the assignment\n",
    "statement does not set `func_a` to have the value we need. Set `func_a`\n",
    "correctly so the result equals 7:"
   ]
  },
  {
   "cell_type": "code",
   "execution_count": null,
   "id": "254486d6",
   "metadata": {},
   "outputs": [],
   "source": [
    "func_a = add()\n",
    "w = func_a(-1, 8)\n",
    "w"
   ]
  },
  {
   "cell_type": "code",
   "execution_count": null,
   "id": "d0870b65",
   "metadata": {},
   "outputs": [],
   "source": [
    "_ = ok.grade('q_0_w')"
   ]
  },
  {
   "cell_type": "markdown",
   "id": "f7a8905c",
   "metadata": {},
   "source": [
    "Set `func_b` correctly in the code below so the result equals 2:"
   ]
  },
  {
   "cell_type": "code",
   "execution_count": null,
   "id": "54e6bec2",
   "metadata": {},
   "outputs": [],
   "source": [
    "func_b = add\n",
    "x = func_b(10, 8)\n",
    "x"
   ]
  },
  {
   "cell_type": "code",
   "execution_count": null,
   "id": "24c5d1d7",
   "metadata": {},
   "outputs": [],
   "source": [
    "_ = ok.grade('q_1_x')"
   ]
  },
  {
   "cell_type": "markdown",
   "id": "e2fbbf40",
   "metadata": {},
   "source": [
    "Set `my_func1` and `my_func2` in the code fragment below, so that the\n",
    "result is 12:"
   ]
  },
  {
   "cell_type": "code",
   "execution_count": null,
   "id": "a8b2e65f",
   "metadata": {},
   "outputs": [],
   "source": [
    "my_func1 = ...\n",
    "my_func2 = ...\n",
    "y = my_func1(8, 2) + my_func2(3, 3)\n",
    "y"
   ]
  },
  {
   "cell_type": "code",
   "execution_count": null,
   "id": "db0fa96b",
   "metadata": {},
   "outputs": [],
   "source": [
    "_ = ok.grade('q_2_y')"
   ]
  },
  {
   "cell_type": "markdown",
   "id": "a8c887ea",
   "metadata": {},
   "source": [
    "Here is a function that takes three arguments.  The first, called `f`,\n",
    "should be set to a function value - that is, a value that is the internal\n",
    "representation of a function.  The second and third values, called `x` and `y`,\n",
    "should set to be number values."
   ]
  },
  {
   "cell_type": "code",
   "execution_count": null,
   "id": "6568e18b",
   "metadata": {},
   "outputs": [],
   "source": [
    "def do_it(f, x, y):\n",
    "    return f(x, y)"
   ]
  },
  {
   "cell_type": "markdown",
   "id": "ba805886",
   "metadata": {},
   "source": [
    "Set `another_func` so the result returned is 4:"
   ]
  },
  {
   "cell_type": "code",
   "execution_count": null,
   "id": "a7ad96c8",
   "metadata": {},
   "outputs": [],
   "source": [
    "another_func = ...\n",
    "z = do_it(another_func, 1, 3)\n",
    "z"
   ]
  },
  {
   "cell_type": "code",
   "execution_count": null,
   "id": "d718a063",
   "metadata": {},
   "outputs": [],
   "source": [
    "_ = ok.grade('q_3_z')"
   ]
  },
  {
   "cell_type": "markdown",
   "id": "0cebd9ac",
   "metadata": {},
   "source": [
    "## Done\n",
    "\n",
    "You're finished with the assignment!  Be sure to...\n",
    "\n",
    "- **run all the tests** (the next cell has a shortcut for that),\n",
    "- **Save and Checkpoint** from the \"File\" menu."
   ]
  },
  {
   "cell_type": "code",
   "execution_count": null,
   "id": "f64d0b7c",
   "metadata": {},
   "outputs": [],
   "source": [
    "# For your convenience, you can run this cell to run all the tests at once!\n",
    "import os\n",
    "_ = [ok.grade(q[:-3]) for q in os.listdir(\"tests\") if q.startswith('q')]"
   ]
  }
 ],
 "metadata": {
  "jupytext": {
   "notebook_metadata_filter": "all,-language_info",
   "text_representation": {
    "extension": ".Rmd",
    "format_name": "rmarkdown",
    "format_version": "1.0",
    "jupytext_version": "0.8.6"
   }
  },
  "kernelspec": {
   "display_name": "Python 3",
   "language": "python",
   "name": "python3"
  },
  "textbook": {
   "run": false
  }
 },
 "nbformat": 4,
 "nbformat_minor": 5
}
